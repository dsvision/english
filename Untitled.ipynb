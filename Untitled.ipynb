{
 "cells": [
  {
   "cell_type": "code",
   "execution_count": 1,
   "metadata": {},
   "outputs": [],
   "source": [
    "%matplotlib inline\n",
    "\n",
    "import json\n",
    "import numpy as np\n",
    "import matplotlib.pyplot as plt"
   ]
  },
  {
   "cell_type": "code",
   "execution_count": 5,
   "metadata": {},
   "outputs": [
    {
     "data": {
      "text/plain": [
       "[(u'CHILOSTOMATOUS', u'Of or pertaining to the Chilostoma.'),\n",
       " (u'LINGUISTICS',\n",
       "  u'The science of languages, or of the origin, signification, andapplication of words; glossology.'),\n",
       " (u'POSTEXISTENCE', u'Subsequent existence.'),\n",
       " (u'EPENTHESIS',\n",
       "  u'The insertion of a letter or a sound in the body of a word; as,the b in \"nimble\" from AS. nemol.'),\n",
       " (u'PLASTERY',\n",
       "  u'Of the nature of plaster.The stone . . . is a poor plastery material. Clough.'),\n",
       " (u'JOHNNY',\n",
       "  u'A sculpin. [Local cant] Johny Crapaud (, a jocose designationof a Frenchman, or of the French people, collectively.'),\n",
       " (u'HONEYLESS', u'Destitute of honey. Shak.'),\n",
       " (u'WALY', u'An exclamation of grief. [Obs. or Prov. Eng. & Scot.]'),\n",
       " (u'THUNDERCLOUD',\n",
       "  u'A cloud charged with electricity, and producing lightning andthunder.'),\n",
       " (u'EXPLAIN', u'To give an explanation.')]"
      ]
     },
     "execution_count": 5,
     "output_type": "execute_result",
     "metadata": {}
    }
   ],
   "source": [
    "path = 'data/dictionary.json'\n",
    "definitions = json.load(open(path))\n",
    "definitions.items()[0:10]"
   ]
  },
  {
   "cell_type": "markdown",
   "metadata": {},
   "source": [
    "Filter the definitions. We observe a few patterns:\n",
    "\n",
    "- The definition is normally only on the first sentence, before the '.' or ';'\n",
    "- There may be non alpha characters.\n",
    "- Possibly, some words used on the definitions are not present in the dictionary keys (plurals, for example). We will address specially. The ideal case would be to have the definition of the plural word too,  "
   ]
  },
  {
   "cell_type": "code",
   "execution_count": 31,
   "metadata": {},
   "outputs": [],
   "source": [
    "def is_word():\n",
    "    \n",
    "def clean_definition(definitions, d):\n",
    "    # get only the fist definition\n",
    "    defs = d.split('.')[0].split(';')[0]\n",
    "    cleaned = [w for w in defs.split(' ') if is_word(w, definitions.keys())] \n",
    "    return cleaned\n",
    "    \n",
    "clean = {word.lower(): clean_definition(definitions, definitions[word]) for word in definitions}"
   ]
  },
  {
   "cell_type": "code",
   "execution_count": 36,
   "metadata": {},
   "outputs": [
    {
     "data": {
      "text/plain": [
       "[u'See', u'Halloo']"
      ]
     },
     "execution_count": 36,
     "output_type": "execute_result",
     "metadata": {}
    }
   ],
   "source": [
    "clean['hello']"
   ]
  },
  {
   "cell_type": "code",
   "metadata": {},
   "outputs": [],
   "source": [
    "print(\"a\")"
   ]
  },
  {
   "cell_type": "code",
   "metadata": {},
   "outputs": [],
   "source": [
    ""
   ]
  }
 ],
 "metadata": {
  "kernelspec": {
   "display_name": "Python 2",
   "language": "python",
   "name": "python2"
  },
  "language_info": {
   "codemirror_mode": {
    "name": "ipython",
    "version": 2.0
   },
   "file_extension": ".py",
   "mimetype": "text/x-python",
   "name": "python",
   "nbconvert_exporter": "python",
   "pygments_lexer": "ipython2",
   "version": "2.7.10"
  }
 },
 "nbformat": 4,
 "nbformat_minor": 0
}